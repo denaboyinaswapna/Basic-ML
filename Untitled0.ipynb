{
  "nbformat": 4,
  "nbformat_minor": 0,
  "metadata": {
    "colab": {
      "name": "Untitled0.ipynb",
      "provenance": [],
      "authorship_tag": "ABX9TyOBNLGiRHhRMXocC39IrwBa",
      "include_colab_link": true
    },
    "kernelspec": {
      "name": "python3",
      "display_name": "Python 3"
    },
    "language_info": {
      "name": "python"
    }
  },
  "cells": [
    {
      "cell_type": "markdown",
      "metadata": {
        "id": "view-in-github",
        "colab_type": "text"
      },
      "source": [
        "<a href=\"https://colab.research.google.com/github/denaboyinaswapna/Basic-ML/blob/main/Untitled0.ipynb\" target=\"_parent\"><img src=\"https://colab.research.google.com/assets/colab-badge.svg\" alt=\"Open In Colab\"/></a>"
      ]
    },
    {
      "cell_type": "markdown",
      "metadata": {
        "id": "9zu9jQz0qhab"
      },
      "source": [
        "program"
      ]
    },
    {
      "cell_type": "markdown",
      "metadata": {
        "id": "QzCyAGX1rwAS"
      },
      "source": [
        "program to pass list as function argument"
      ]
    },
    {
      "cell_type": "code",
      "metadata": {
        "colab": {
          "base_uri": "https://localhost:8080/"
        },
        "id": "Vyipe3FGqmDr",
        "outputId": "31fcfd39-c011-41ac-cb29-d82d01f15774"
      },
      "source": [
        "def printlist(l):\n",
        "   for i in l:\n",
        "     print(i)\n",
        "l=[1,2,3,4,5]\n",
        "print(\"The elements in the list are\")\n",
        "printlist(l)\n"
      ],
      "execution_count": 2,
      "outputs": [
        {
          "output_type": "stream",
          "text": [
            "The elements in the list are\n",
            "1\n",
            "2\n",
            "3\n",
            "4\n",
            "5\n"
          ],
          "name": "stdout"
        }
      ]
    },
    {
      "cell_type": "markdown",
      "metadata": {
        "id": "rWyvJy_ar-dD"
      },
      "source": [
        "program to find sum of numbers"
      ]
    },
    {
      "cell_type": "code",
      "metadata": {
        "colab": {
          "base_uri": "https://localhost:8080/"
        },
        "id": "vFjiV2a0sG5b",
        "outputId": "6d46e48e-9c2a-48af-eaf4-2aa2b631b0c5"
      },
      "source": [
        "a=4\n",
        "b=3\n",
        "print(a+b)"
      ],
      "execution_count": 3,
      "outputs": [
        {
          "output_type": "stream",
          "text": [
            "7\n"
          ],
          "name": "stdout"
        }
      ]
    },
    {
      "cell_type": "markdown",
      "metadata": {
        "id": "bD6yA_yvsaaF"
      },
      "source": [
        "program to calculate power of a number"
      ]
    },
    {
      "cell_type": "code",
      "metadata": {
        "colab": {
          "base_uri": "https://localhost:8080/"
        },
        "id": "5V_7GPh-stS6",
        "outputId": "24ac3bc1-9343-4229-a20a-0810cf6aafa0"
      },
      "source": [
        "def pow(a,b):\n",
        "  p=a**b\n",
        "  return p\n",
        "a=2\n",
        "b=3\n",
        "print(\"power of a number is\",pow(a,b)) \n"
      ],
      "execution_count": 5,
      "outputs": [
        {
          "output_type": "stream",
          "text": [
            "power of a number is 8\n"
          ],
          "name": "stdout"
        }
      ]
    }
  ]
}